{
 "cells": [
  {
   "cell_type": "code",
   "execution_count": 1,
   "metadata": {},
   "outputs": [],
   "source": [
    "import torch\n",
    "import torch.nn as nn\n",
    "import torch.nn.functional as F\n",
    "import pandas as pd\n",
    "\n",
    "# -------\n",
    "from Transformer import Transformer\n",
    "from functions_training import translate\n",
    "from objects_for_training import *\n",
    "# -------"
   ]
  },
  {
   "cell_type": "code",
   "execution_count": 2,
   "metadata": {},
   "outputs": [],
   "source": [
    "device = torch.device('cuda') if torch.cuda.is_available() else torch.device('cpu')\n"
   ]
  },
  {
   "cell_type": "code",
   "execution_count": 33,
   "metadata": {},
   "outputs": [],
   "source": [
    "START_TOKEN = '<START>'\n",
    "PADDING_TOKEN = '<PADDING>'\n",
    "END_TOKEN = '<END>'"
   ]
  },
  {
   "cell_type": "code",
   "execution_count": 59,
   "metadata": {},
   "outputs": [],
   "source": [
    "import pandas as pd\n",
    "kan = pd.read_csv('vocabulary/es_sanskrit_vocabulary.csv')\n",
    "kannada_vocabulary = []\n",
    "for i in kan:\n",
    "    kannada_vocabulary.append(i[0])"
   ]
  },
  {
   "cell_type": "code",
   "execution_count": 37,
   "metadata": {},
   "outputs": [],
   "source": [
    "kannada_vocabulary = ['English'] + kannada_vocabulary"
   ]
  },
  {
   "cell_type": "code",
   "execution_count": 38,
   "metadata": {},
   "outputs": [],
   "source": [
    "kannada_vocabulary.insert(157,' ')"
   ]
  },
  {
   "cell_type": "code",
   "execution_count": 61,
   "metadata": {},
   "outputs": [],
   "source": [
    "en = pd.read_csv('vocabulary/es_english_vocabulary.csv')\n",
    "english_vocabulary = []\n",
    "for i in en:\n",
    "    english_vocabulary.append(i[0])"
   ]
  },
  {
   "cell_type": "code",
   "execution_count": 47,
   "metadata": {},
   "outputs": [
    {
     "data": {
      "text/plain": [
       "214"
      ]
     },
     "execution_count": 47,
     "metadata": {},
     "output_type": "execute_result"
    }
   ],
   "source": [
    "len(english_vocabulary)"
   ]
  },
  {
   "cell_type": "code",
   "execution_count": 41,
   "metadata": {},
   "outputs": [],
   "source": [
    "english_vocabulary = ['English'] + english_vocabulary\n",
    "english_vocabulary.insert(157,' ')"
   ]
  },
  {
   "cell_type": "code",
   "execution_count": 42,
   "metadata": {},
   "outputs": [],
   "source": [
    "english = ['English',\n",
    " '<START>',\n",
    " 'ấ',\n",
    " '&',\n",
    " 'k',\n",
    " 'r',\n",
    " 'ă',\n",
    " 'á',\n",
    " 'ḥ',\n",
    " '1',\n",
    " 'य',\n",
    " 'ị',\n",
    " '“',\n",
    " 'ộ',\n",
    " 'ế',\n",
    " 'ि',\n",
    " '_',\n",
    " 'ल',\n",
    " 'ī',\n",
    " '0',\n",
    " 'ș',\n",
    " '4',\n",
    " '}',\n",
    " 's',\n",
    " '\"',\n",
    " 'च',\n",
    " 'š',\n",
    " ',',\n",
    " 'द',\n",
    " 'घ',\n",
    " '«',\n",
    " 'ख',\n",
    " 'फ',\n",
    " 'ț',\n",
    " 'थ',\n",
    " 'ñ',\n",
    " 'म',\n",
    " '7',\n",
    " 'ặ',\n",
    " 'ň',\n",
    " 'v',\n",
    " '3',\n",
    " 'त',\n",
    " 'ë',\n",
    " 'ü',\n",
    " 'ध',\n",
    " 'क',\n",
    " '*',\n",
    " '$',\n",
    " 'о',\n",
    " 'b',\n",
    " 'ु',\n",
    " 'ģ',\n",
    " 'ऽ',\n",
    " 'n',\n",
    " '(',\n",
    " '.',\n",
    " 'ć',\n",
    " ')',\n",
    " 'à',\n",
    " 'í',\n",
    " 'ɔ',\n",
    " 'उ',\n",
    " 'ỉ',\n",
    " '+',\n",
    " '?',\n",
    " 'ę',\n",
    " 'ी',\n",
    " 'a',\n",
    " 'ł',\n",
    " 'û',\n",
    " 'õ',\n",
    " 'а',\n",
    " 'ì',\n",
    " '#',\n",
    " 'c',\n",
    " 'u',\n",
    " 'ụ',\n",
    " 'w',\n",
    " 'भ',\n",
    " '5',\n",
    " 'l',\n",
    " 'j',\n",
    " 'e',\n",
    " 'ớ',\n",
    " 'श',\n",
    " 'ņ',\n",
    " 'ब',\n",
    " '%',\n",
    " 'î',\n",
    " 'é',\n",
    " 'ṛ',\n",
    " 'ń',\n",
    " 'अ',\n",
    " 'र',\n",
    " 'ļ',\n",
    " 'ù',\n",
    " 'छ',\n",
    " '—',\n",
    " 'ⓡ',\n",
    " 'ö',\n",
    " 'ै',\n",
    " '-',\n",
    " 'ệ',\n",
    " '=',\n",
    " 'ā',\n",
    " 'f',\n",
    " 'ě',\n",
    " 'ङ',\n",
    " 'ä',\n",
    " 'ů',\n",
    " 'ग',\n",
    " 'z',\n",
    " '{',\n",
    " 'व',\n",
    " '®',\n",
    " '>',\n",
    " 'ķ',\n",
    " ';',\n",
    " 'į',\n",
    " 'i',\n",
    " ':',\n",
    " 'm',\n",
    " 'ṇ',\n",
    " 'ṁ',\n",
    " 'ः',\n",
    " 'ĩ',\n",
    " '¡',\n",
    " 'ञ',\n",
    " 'ठ',\n",
    " 'y',\n",
    " '॥',\n",
    " '’',\n",
    " '9',\n",
    " 'ॄ',\n",
    " 'â',\n",
    " 'с',\n",
    " 'ė',\n",
    " 'न',\n",
    " 'ű',\n",
    " 'ष',\n",
    " 'ृ',\n",
    " 'ạ',\n",
    " '·',\n",
    " '2',\n",
    " 'o',\n",
    " 'ò',\n",
    " 'd',\n",
    " 'è',\n",
    " 'ढ',\n",
    " 'ç',\n",
    " '~',\n",
    " 'ś',\n",
    " 'q',\n",
    " '6',\n",
    " '8',\n",
    " 'ह',\n",
    " ' ',\n",
    " '।',\n",
    " '•',\n",
    " 'g',\n",
    " 'ó',\n",
    " '‘',\n",
    " '”',\n",
    " 'ư',\n",
    " 'ड',\n",
    " \"'\",\n",
    " 'ş',\n",
    " 'ſ',\n",
    " 'आ',\n",
    " '@',\n",
    " 'ṣ',\n",
    " 'ज',\n",
    " 'ọ',\n",
    " 'ौ',\n",
    " 'ए',\n",
    " 'ट',\n",
    " 'ा',\n",
    " 'ã',\n",
    " 'इ',\n",
    " '/',\n",
    " 'p',\n",
    " ']',\n",
    " 't',\n",
    " 'ं',\n",
    " 'ħ',\n",
    " 'ţ',\n",
    " 'ú',\n",
    " 'h',\n",
    " 'å',\n",
    " '्',\n",
    " 'स',\n",
    " 'ď',\n",
    " 'ả',\n",
    " 'ı',\n",
    " 'ू',\n",
    " 'ū',\n",
    " 'प',\n",
    " '„',\n",
    " 'ो',\n",
    " '–',\n",
    " '[',\n",
    " 'े',\n",
    " 'x',\n",
    " 'ř',\n",
    " 'ण',\n",
    " '!',\n",
    " '<PADDING>',\n",
    " '<END>']\n",
    "\n",
    "kannada = ['English',\n",
    " '<START>',\n",
    " '९',\n",
    " '1',\n",
    " 'M',\n",
    " 'य',\n",
    " 'ि',\n",
    " '_',\n",
    " 'ओ',\n",
    " 'ल',\n",
    " 'औ',\n",
    " '4',\n",
    " 's',\n",
    " '\"',\n",
    " 'च',\n",
    " 'घ',\n",
    " ',',\n",
    " 'द',\n",
    " '७',\n",
    " '«',\n",
    " 'ख',\n",
    " '३',\n",
    " 'फ',\n",
    " '४',\n",
    " 'थ',\n",
    " 'म',\n",
    " '7',\n",
    " 'त',\n",
    " 'ध',\n",
    " 'क',\n",
    " '*',\n",
    " '¥',\n",
    " 'ु',\n",
    " 'ऽ',\n",
    " 'ऐ',\n",
    " 'ॉ',\n",
    " '(',\n",
    " '१',\n",
    " '.',\n",
    " 'ज़',\n",
    " 'ॠ',\n",
    " '५',\n",
    " ')',\n",
    " 'उ',\n",
    " '़',\n",
    " '?',\n",
    " 'ी',\n",
    " 'a',\n",
    " '#',\n",
    " 'c',\n",
    " 'ऋ',\n",
    " 'H',\n",
    " 'u',\n",
    " 'भ',\n",
    " 'l',\n",
    " 'j',\n",
    " 'ँ',\n",
    " 'श',\n",
    " 'ब',\n",
    " 'ळ',\n",
    " 'अ',\n",
    " 'र',\n",
    " 'छ',\n",
    " 'ऎ',\n",
    " '—',\n",
    " 'ई',\n",
    " 'ै',\n",
    " '०',\n",
    " 'झ',\n",
    " '-',\n",
    " 'ā',\n",
    " '॑',\n",
    " '\\\\',\n",
    " 'f',\n",
    " '२',\n",
    " 'ङ',\n",
    " '८',\n",
    " 'ग',\n",
    " '॒',\n",
    " '{',\n",
    " 'व',\n",
    " 'ड़',\n",
    " 'ऊ',\n",
    " ';',\n",
    " 'ः',\n",
    " ':',\n",
    " 'i',\n",
    " 'ॄ',\n",
    " 'ञ',\n",
    " 'ठ',\n",
    " 'y',\n",
    " '॥',\n",
    " '9',\n",
    " 'न',\n",
    " 'ॅ',\n",
    " 'ष',\n",
    " 'ृ',\n",
    " 'ऱ',\n",
    " 'ढ',\n",
    " '`',\n",
    " 'ह',\n",
    " ' ',\n",
    " '।',\n",
    " '•',\n",
    " '‘',\n",
    " '”',\n",
    " '→',\n",
    " 'ड',\n",
    " 'Q',\n",
    " \"'\",\n",
    " 'ऑ',\n",
    " 'आ',\n",
    " 'ॊ',\n",
    " '@',\n",
    " 'ज',\n",
    " 'ौ',\n",
    " 'ए',\n",
    " 'ट',\n",
    " 'ा',\n",
    " 'इ',\n",
    " '/',\n",
    " 'p',\n",
    " ']',\n",
    " 'ं',\n",
    " 'ॐ',\n",
    " 'h',\n",
    " 'स',\n",
    " '्',\n",
    " 'ू',\n",
    " '६',\n",
    " 'प',\n",
    " 'ो',\n",
    " 'ॆ',\n",
    " '–',\n",
    " '[',\n",
    " 'े',\n",
    " 'ण',\n",
    " '!',\n",
    " '<PADDING>',\n",
    " '<END>']"
   ]
  },
  {
   "cell_type": "code",
   "execution_count": null,
   "metadata": {},
   "outputs": [],
   "source": []
  },
  {
   "cell_type": "code",
   "execution_count": null,
   "metadata": {},
   "outputs": [],
   "source": []
  },
  {
   "cell_type": "code",
   "execution_count": 45,
   "metadata": {},
   "outputs": [
    {
     "data": {
      "text/plain": [
       "213"
      ]
     },
     "execution_count": 45,
     "metadata": {},
     "output_type": "execute_result"
    }
   ],
   "source": [
    "len(english_vocabulary)"
   ]
  },
  {
   "cell_type": "code",
   "execution_count": 48,
   "metadata": {},
   "outputs": [
    {
     "data": {
      "text/plain": [
       "' '"
      ]
     },
     "execution_count": 48,
     "metadata": {},
     "output_type": "execute_result"
    }
   ],
   "source": [
    "english[157]"
   ]
  },
  {
   "cell_type": "code",
   "execution_count": 50,
   "metadata": {},
   "outputs": [],
   "source": [
    "english_vocabulary = english\n",
    "kannada_vocabulary = kannada"
   ]
  },
  {
   "cell_type": "code",
   "execution_count": 51,
   "metadata": {},
   "outputs": [],
   "source": [
    "index_to_kannada = {k:v for k,v in enumerate(kannada_vocabulary)}\n",
    "kannada_to_index = {v:k for k,v in enumerate(kannada_vocabulary)}\n",
    "index_to_english = {k:v for k,v in enumerate(english_vocabulary)}\n",
    "english_to_index = {v:k for k,v in enumerate(english_vocabulary)}\n",
    "\n",
    "d_model = 512\n",
    "batch_size = 30\n",
    "ffn_hidden = 2048\n",
    "num_heads = 8\n",
    "drop_prob = 0.1\n",
    "num_layers = 1\n",
    "max_sequence_length = 200\n",
    "kn_vocab_size = len(kannada_vocabulary)\n",
    "transformer = Transformer(d_model,\n",
    "                        ffn_hidden,\n",
    "                        num_heads,\n",
    "                        drop_prob,\n",
    "                        num_layers,\n",
    "                        max_sequence_length,\n",
    "                        kn_vocab_size,\n",
    "                        english_to_index,\n",
    "                        kannada_to_index,\n",
    "                        START_TOKEN,\n",
    "                        END_TOKEN,\n",
    "                        PADDING_TOKEN)"
   ]
  },
  {
   "cell_type": "code",
   "execution_count": 52,
   "metadata": {},
   "outputs": [
    {
     "data": {
      "text/plain": [
       "140"
      ]
     },
     "execution_count": 52,
     "metadata": {},
     "output_type": "execute_result"
    }
   ],
   "source": [
    "kn_vocab_size"
   ]
  },
  {
   "cell_type": "code",
   "execution_count": 53,
   "metadata": {},
   "outputs": [
    {
     "data": {
      "text/plain": [
       "<All keys matched successfully>"
      ]
     },
     "execution_count": 53,
     "metadata": {},
     "output_type": "execute_result"
    }
   ],
   "source": [
    "transformer.load_state_dict(torch.load('models/v3_es_5e_st.pt', map_location=device))"
   ]
  },
  {
   "cell_type": "code",
   "execution_count": 54,
   "metadata": {},
   "outputs": [
    {
     "data": {
      "text/plain": [
       "Transformer(\n",
       "  (encoder): Encoder(\n",
       "    (sentence_embedding): SentenceEmbedding(\n",
       "      (embedding): Embedding(209, 512)\n",
       "      (position_encoder): PositionalEncoding()\n",
       "      (dropout): Dropout(p=0.1, inplace=False)\n",
       "    )\n",
       "    (layers): SequentialEncoder(\n",
       "      (0): EncoderLayer(\n",
       "        (attention): MultiHeadAttention(\n",
       "          (qkv_layer): Linear(in_features=512, out_features=1536, bias=True)\n",
       "          (linear_layer): Linear(in_features=512, out_features=512, bias=True)\n",
       "        )\n",
       "        (norm1): LayerNormalization()\n",
       "        (dropout1): Dropout(p=0.1, inplace=False)\n",
       "        (ffn): PositionwiseFeedForward(\n",
       "          (linear1): Linear(in_features=512, out_features=2048, bias=True)\n",
       "          (linear2): Linear(in_features=2048, out_features=512, bias=True)\n",
       "          (relu): ReLU()\n",
       "          (dropout): Dropout(p=0.1, inplace=False)\n",
       "        )\n",
       "        (norm2): LayerNormalization()\n",
       "        (dropout2): Dropout(p=0.1, inplace=False)\n",
       "      )\n",
       "    )\n",
       "  )\n",
       "  (decoder): Decoder(\n",
       "    (sentence_embedding): SentenceEmbedding(\n",
       "      (embedding): Embedding(140, 512)\n",
       "      (position_encoder): PositionalEncoding()\n",
       "      (dropout): Dropout(p=0.1, inplace=False)\n",
       "    )\n",
       "    (layers): SequentialDecoder(\n",
       "      (0): DecoderLayer(\n",
       "        (self_attention): MultiHeadAttention(\n",
       "          (qkv_layer): Linear(in_features=512, out_features=1536, bias=True)\n",
       "          (linear_layer): Linear(in_features=512, out_features=512, bias=True)\n",
       "        )\n",
       "        (layer_norm1): LayerNormalization()\n",
       "        (dropout1): Dropout(p=0.1, inplace=False)\n",
       "        (encoder_decoder_attention): MultiHeadCrossAttention(\n",
       "          (kv_layer): Linear(in_features=512, out_features=1024, bias=True)\n",
       "          (q_layer): Linear(in_features=512, out_features=512, bias=True)\n",
       "          (linear_layer): Linear(in_features=512, out_features=512, bias=True)\n",
       "        )\n",
       "        (layer_norm2): LayerNormalization()\n",
       "        (dropout2): Dropout(p=0.1, inplace=False)\n",
       "        (ffn): PositionwiseFeedForward(\n",
       "          (linear1): Linear(in_features=512, out_features=2048, bias=True)\n",
       "          (linear2): Linear(in_features=2048, out_features=512, bias=True)\n",
       "          (relu): ReLU()\n",
       "          (dropout): Dropout(p=0.1, inplace=False)\n",
       "        )\n",
       "        (layer_norm3): LayerNormalization()\n",
       "        (dropout3): Dropout(p=0.1, inplace=False)\n",
       "      )\n",
       "    )\n",
       "  )\n",
       "  (linear): Linear(in_features=512, out_features=140, bias=True)\n",
       ")"
      ]
     },
     "execution_count": 54,
     "metadata": {},
     "output_type": "execute_result"
    }
   ],
   "source": [
    "transformer.eval()"
   ]
  },
  {
   "cell_type": "code",
   "execution_count": 55,
   "metadata": {},
   "outputs": [],
   "source": [
    "from functions_training import translate"
   ]
  },
  {
   "cell_type": "code",
   "execution_count": 31,
   "metadata": {},
   "outputs": [
    {
     "data": {
      "text/plain": [
       "'ớ'"
      ]
     },
     "execution_count": 31,
     "metadata": {},
     "output_type": "execute_result"
    }
   ],
   "source": [
    "english_vocabulary[84]"
   ]
  },
  {
   "cell_type": "code",
   "execution_count": 58,
   "metadata": {},
   "outputs": [
    {
     "ename": "KeyError",
     "evalue": "80",
     "output_type": "error",
     "traceback": [
      "\u001b[1;31m---------------------------------------------------------------------------\u001b[0m",
      "\u001b[1;31mKeyError\u001b[0m                                  Traceback (most recent call last)",
      "Cell \u001b[1;32mIn[58], line 1\u001b[0m\n\u001b[1;32m----> 1\u001b[0m \u001b[43mtranslate\u001b[49m\u001b[43m(\u001b[49m\u001b[38;5;124;43m'\u001b[39;49m\u001b[38;5;124;43mhi\u001b[39;49m\u001b[38;5;124;43m'\u001b[39;49m\u001b[43m,\u001b[49m\u001b[43m \u001b[49m\u001b[43mtransformer\u001b[49m\u001b[43m)\u001b[49m\n",
      "File \u001b[1;32mc:\\MyFiles\\WD\\myprojets\\Hackfest\\TransLingoGPT\\functions_training.py:56\u001b[0m, in \u001b[0;36mtranslate\u001b[1;34m(eng_sentence, transformer)\u001b[0m\n\u001b[0;32m     54\u001b[0m next_token_prob_distribution \u001b[38;5;241m=\u001b[39m predictions[\u001b[38;5;241m0\u001b[39m][word_counter]\n\u001b[0;32m     55\u001b[0m next_token_index \u001b[38;5;241m=\u001b[39m torch\u001b[38;5;241m.\u001b[39margmax(next_token_prob_distribution)\u001b[38;5;241m.\u001b[39mitem()\n\u001b[1;32m---> 56\u001b[0m next_token \u001b[38;5;241m=\u001b[39m \u001b[43mindex_to_kannada\u001b[49m\u001b[43m[\u001b[49m\u001b[43mnext_token_index\u001b[49m\u001b[43m]\u001b[49m\n\u001b[0;32m     57\u001b[0m kn_sentence \u001b[38;5;241m=\u001b[39m (kn_sentence[\u001b[38;5;241m0\u001b[39m] \u001b[38;5;241m+\u001b[39m next_token, )\n\u001b[0;32m     58\u001b[0m \u001b[38;5;28;01mif\u001b[39;00m next_token \u001b[38;5;241m==\u001b[39m END_TOKEN:\n",
      "\u001b[1;31mKeyError\u001b[0m: 80"
     ]
    }
   ],
   "source": [
    "translate('hi', transformer)"
   ]
  },
  {
   "cell_type": "code",
   "execution_count": null,
   "metadata": {},
   "outputs": [],
   "source": []
  },
  {
   "cell_type": "code",
   "execution_count": null,
   "metadata": {},
   "outputs": [],
   "source": []
  }
 ],
 "metadata": {
  "kernelspec": {
   "display_name": "Python 3",
   "language": "python",
   "name": "python3"
  },
  "language_info": {
   "codemirror_mode": {
    "name": "ipython",
    "version": 3
   },
   "file_extension": ".py",
   "mimetype": "text/x-python",
   "name": "python",
   "nbconvert_exporter": "python",
   "pygments_lexer": "ipython3",
   "version": "3.12.2"
  }
 },
 "nbformat": 4,
 "nbformat_minor": 2
}
